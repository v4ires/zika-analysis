{
 "cells": [
  {
   "cell_type": "markdown",
   "metadata": {},
   "source": [
    "# A Jupyter Notebook Zika Dataset Analysis\n",
    "<img src=\"zika-logo.png\" alt=\"Drawing\" style=\"width: 450px;\"/>"
   ]
  },
  {
   "cell_type": "code",
   "execution_count": 54,
   "metadata": {
    "collapsed": true
   },
   "outputs": [],
   "source": [
    "from pyspark.mllib.clustering import KMeans\n",
    "import os, shutil, csv, io\n",
    "import pandas as pd\n",
    "import numpy as np\n",
    "from math import sqrt"
   ]
  },
  {
   "cell_type": "code",
   "execution_count": 55,
   "metadata": {
    "collapsed": false
   },
   "outputs": [],
   "source": [
    "def list2csv(arr_input):\n",
    "    '''Method for converting python list into csv file'''\n",
    "    output = io.StringIO(\"\")\n",
    "    csv.writer(output).writerow(arr_input)\n",
    "    return output.getValue().strip()\n",
    "\n",
    "def csv2rdd(csv):\n",
    "    '''Method for converting csv file into rdd'''\n",
    "    return sc.parallelize(csv)\n",
    "\n",
    "def rdd2numpy_arr(rdd_input):\n",
    "    '''Method for converting rdd into numpy array'''\n",
    "    return np.asarray(rdd.collect())\n",
    "\n",
    "def save_result(dir_path, rdd_input):\n",
    "    '''Method for save rdd result into specific folder'''\n",
    "    if os.path.exists(dir_path):\n",
    "        shutil.rmtree(dir_path)\n",
    "    rdd_input.saveAsTextFile(dir_path)\n",
    "    \n",
    "def kmeans_error(point, clusters_rdd): \n",
    "    '''Method for evaluate the kmeans algorithm error'''\n",
    "    center = clusters_rdd.centers[clusters_rdd.predict(point)] \n",
    "    return sqrt(sum([x**2 for x in (point - center)]))    \n",
    "\n",
    "def show_rdd(x):\n",
    "    '''Method for show the RDD content'''\n",
    "    print(x)"
   ]
  },
  {
   "cell_type": "markdown",
   "metadata": {},
   "source": [
    "### Read and Show Zika Virus Dataset in Pandas"
   ]
  },
  {
   "cell_type": "code",
   "execution_count": 61,
   "metadata": {
    "collapsed": false
   },
   "outputs": [],
   "source": [
    "input_path = 'dataset/lista_dados_sage.csv'\n",
    "file_input_pd = pd.read_csv(input_path, delimiter=',')"
   ]
  },
  {
   "cell_type": "markdown",
   "metadata": {
    "collapsed": true
   },
   "source": [
    "### Read Zika Virus Dataset in Spark"
   ]
  },
  {
   "cell_type": "code",
   "execution_count": 62,
   "metadata": {
    "collapsed": false
   },
   "outputs": [
    {
     "data": {
      "text/plain": [
       "['520010,6,2016,1,0,1,0,0,0,0,0',\n",
       " '110001,41,2016,1,1,0,0,0,0,0,0',\n",
       " '110001,42,2016,1,1,0,0,0,0,0,0',\n",
       " '110001,43,2016,1,1,0,0,0,0,0,0',\n",
       " '110001,44,2016,2,2,0,0,0,0,0,0']"
      ]
     },
     "execution_count": 62,
     "metadata": {},
     "output_type": "execute_result"
    }
   ],
   "source": [
    "file_input_rdd = sc.textFile(input_path)\n",
    "file_input_rdd.take(5)"
   ]
  },
  {
   "cell_type": "code",
   "execution_count": 63,
   "metadata": {
    "collapsed": false
   },
   "outputs": [],
   "source": [
    "#Converting CSV RDD data into RDD Array\n",
    "parsed_data_rdd = file_input_rdd\\\n",
    "    .map(lambda line: np.array([int(x) for x in line.split(',')]))\\\n",
    "    .cache()"
   ]
  },
  {
   "cell_type": "markdown",
   "metadata": {},
   "source": [
    "## Applying KMeans Algorithm"
   ]
  },
  {
   "cell_type": "code",
   "execution_count": 64,
   "metadata": {
    "collapsed": true
   },
   "outputs": [],
   "source": [
    "clusters_rdd = KMeans.train(parsed_data_rdd, 100, maxIterations=100, initializationMode='random')"
   ]
  },
  {
   "cell_type": "code",
   "execution_count": 67,
   "metadata": {
    "collapsed": false
   },
   "outputs": [],
   "source": [
    "#WSSSE = (parsed_data_rdd.map(lambda point: kmeans_error(point, clusters_rdd)).reduce(lambda x, y: x + y))\n",
    "#print('Within Set Sum of Squared Error = ' + str(WSSSE))"
   ]
  }
 ],
 "metadata": {
  "kernelspec": {
   "display_name": "Python 3",
   "language": "python",
   "name": "python3"
  },
  "language_info": {
   "codemirror_mode": {
    "name": "ipython",
    "version": 3
   },
   "file_extension": ".py",
   "mimetype": "text/x-python",
   "name": "python",
   "nbconvert_exporter": "python",
   "pygments_lexer": "ipython3",
   "version": "3.6.0"
  }
 },
 "nbformat": 4,
 "nbformat_minor": 2
}
